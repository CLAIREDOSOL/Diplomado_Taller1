{
 "cells": [
  {
   "cell_type": "markdown",
   "metadata": {},
   "source": [
    "# Taller evaluable sobre la extracción, transformación y visualización de datos usando IPython"
   ]
  },
  {
   "cell_type": "markdown",
   "metadata": {},
   "source": [
    "**Juan David Velásquez Henao**   \n",
    "jdvelasq@unal.edu.co  \n",
    "Universidad Nacional de Colombia, Sede Medellín  \n",
    "Facultad de Minas  \n",
    "Medellín, Colombia "
   ]
  },
  {
   "cell_type": "markdown",
   "metadata": {},
   "source": [
    "# Instrucciones"
   ]
  },
  {
   "cell_type": "markdown",
   "metadata": {},
   "source": [
    "En la carpeta 'Taller' del repositorio 'ETVL-IPython' se encuentran los archivos 'Precio_Bolsa_Nacional_($kwh)_'*'.xls' en formato de Microsoft Excel, los cuales contienen los precios históricos horarios de la electricidad para el mercado eléctrico Colombiano entre los años 1995 y 2017 en COL-PESOS/kWh. A partir de la información suministrada resuelva los siguientes puntos usando el lenguaje de programación Python. "
   ]
  },
  {
   "cell_type": "markdown",
   "metadata": {},
   "source": []
  },
  {
   "cell_type": "markdown",
   "metadata": {},
   "source": []
  },
  {
   "cell_type": "markdown",
   "metadata": {},
   "source": [
    "##TALLER 1\n",
    "##MODULO 1 DIPLOMADO EN ANALITICA EN MERCADOS DE ENERGIA\n",
    "##NOMBRE: MARIA CLARA BETANCUR CASTRILLÓN "
   ]
  },
  {
   "cell_type": "markdown",
   "metadata": {},
   "source": [
    "# Preguntas"
   ]
  },
  {
   "cell_type": "markdown",
   "metadata": {},
   "source": [
    "**1.--** Lea los archivos y cree una tabla única concatenando la información para cada uno de los años. Debe transformar la tabla de tal forma que quede con las columnas `Fecha`, `Hora` y `Precio` (únicamente tres columnas).  Imprima el encabezamiento de la tabla usando `head()`. "
   ]
  },
  {
   "cell_type": "code",
   "execution_count": 56,
   "metadata": {
    "collapsed": false
   },
   "outputs": [
    {
     "data": {
      "text/html": [
       "<div>\n",
       "<table border=\"1\" class=\"dataframe\">\n",
       "  <thead>\n",
       "    <tr style=\"text-align: right;\">\n",
       "      <th></th>\n",
       "      <th>Fecha</th>\n",
       "      <th>0</th>\n",
       "      <th>1</th>\n",
       "      <th>2</th>\n",
       "      <th>3</th>\n",
       "      <th>4</th>\n",
       "      <th>5</th>\n",
       "      <th>6</th>\n",
       "      <th>7</th>\n",
       "      <th>8</th>\n",
       "      <th>...</th>\n",
       "      <th>14</th>\n",
       "      <th>15</th>\n",
       "      <th>16</th>\n",
       "      <th>17</th>\n",
       "      <th>18</th>\n",
       "      <th>19</th>\n",
       "      <th>20</th>\n",
       "      <th>21</th>\n",
       "      <th>22</th>\n",
       "      <th>23</th>\n",
       "    </tr>\n",
       "  </thead>\n",
       "  <tbody>\n",
       "    <tr>\n",
       "      <th>0</th>\n",
       "      <td>1995-07-20</td>\n",
       "      <td>NaN</td>\n",
       "      <td>1.073</td>\n",
       "      <td>1.073</td>\n",
       "      <td>1.073</td>\n",
       "      <td>1.073</td>\n",
       "      <td>1.073</td>\n",
       "      <td>1.073</td>\n",
       "      <td>1.073</td>\n",
       "      <td>1.074</td>\n",
       "      <td>...</td>\n",
       "      <td>1.073</td>\n",
       "      <td>1.073</td>\n",
       "      <td>1.073</td>\n",
       "      <td>1.073</td>\n",
       "      <td>1.074</td>\n",
       "      <td>1.897</td>\n",
       "      <td>1.897</td>\n",
       "      <td>1.897</td>\n",
       "      <td>1.073</td>\n",
       "      <td>1.073</td>\n",
       "    </tr>\n",
       "    <tr>\n",
       "      <th>1</th>\n",
       "      <td>1995-07-21</td>\n",
       "      <td>1.073</td>\n",
       "      <td>1.000</td>\n",
       "      <td>1.000</td>\n",
       "      <td>1.000</td>\n",
       "      <td>1.000</td>\n",
       "      <td>1.000</td>\n",
       "      <td>5.000</td>\n",
       "      <td>6.000</td>\n",
       "      <td>6.000</td>\n",
       "      <td>...</td>\n",
       "      <td>5.000</td>\n",
       "      <td>1.000</td>\n",
       "      <td>1.000</td>\n",
       "      <td>5.000</td>\n",
       "      <td>12.000</td>\n",
       "      <td>16.670</td>\n",
       "      <td>11.929</td>\n",
       "      <td>5.000</td>\n",
       "      <td>1.000</td>\n",
       "      <td>1.000</td>\n",
       "    </tr>\n",
       "    <tr>\n",
       "      <th>2</th>\n",
       "      <td>1995-07-22</td>\n",
       "      <td>1.073</td>\n",
       "      <td>1.073</td>\n",
       "      <td>1.000</td>\n",
       "      <td>1.000</td>\n",
       "      <td>1.000</td>\n",
       "      <td>1.073</td>\n",
       "      <td>1.303</td>\n",
       "      <td>1.303</td>\n",
       "      <td>1.303</td>\n",
       "      <td>...</td>\n",
       "      <td>1.073</td>\n",
       "      <td>1.000</td>\n",
       "      <td>1.000</td>\n",
       "      <td>1.000</td>\n",
       "      <td>1.303</td>\n",
       "      <td>2.500</td>\n",
       "      <td>2.500</td>\n",
       "      <td>1.303</td>\n",
       "      <td>1.073</td>\n",
       "      <td>1.073</td>\n",
       "    </tr>\n",
       "    <tr>\n",
       "      <th>3</th>\n",
       "      <td>1995-07-23</td>\n",
       "      <td>1.073</td>\n",
       "      <td>1.000</td>\n",
       "      <td>1.000</td>\n",
       "      <td>1.000</td>\n",
       "      <td>1.000</td>\n",
       "      <td>1.000</td>\n",
       "      <td>0.100</td>\n",
       "      <td>1.000</td>\n",
       "      <td>1.000</td>\n",
       "      <td>...</td>\n",
       "      <td>1.000</td>\n",
       "      <td>0.100</td>\n",
       "      <td>0.100</td>\n",
       "      <td>1.000</td>\n",
       "      <td>1.238</td>\n",
       "      <td>1.238</td>\n",
       "      <td>1.238</td>\n",
       "      <td>1.238</td>\n",
       "      <td>1.073</td>\n",
       "      <td>1.000</td>\n",
       "    </tr>\n",
       "    <tr>\n",
       "      <th>4</th>\n",
       "      <td>1995-07-24</td>\n",
       "      <td>1.000</td>\n",
       "      <td>1.000</td>\n",
       "      <td>0.990</td>\n",
       "      <td>1.000</td>\n",
       "      <td>1.000</td>\n",
       "      <td>1.073</td>\n",
       "      <td>3.000</td>\n",
       "      <td>3.000</td>\n",
       "      <td>3.000</td>\n",
       "      <td>...</td>\n",
       "      <td>1.073</td>\n",
       "      <td>1.073</td>\n",
       "      <td>3.000</td>\n",
       "      <td>2.000</td>\n",
       "      <td>18.630</td>\n",
       "      <td>22.500</td>\n",
       "      <td>9.256</td>\n",
       "      <td>3.000</td>\n",
       "      <td>1.073</td>\n",
       "      <td>1.000</td>\n",
       "    </tr>\n",
       "  </tbody>\n",
       "</table>\n",
       "<p>5 rows × 25 columns</p>\n",
       "</div>"
      ],
      "text/plain": [
       "        Fecha      0      1      2      3      4      5      6      7      8  \\\n",
       "0  1995-07-20    NaN  1.073  1.073  1.073  1.073  1.073  1.073  1.073  1.074   \n",
       "1  1995-07-21  1.073  1.000  1.000  1.000  1.000  1.000  5.000  6.000  6.000   \n",
       "2  1995-07-22  1.073  1.073  1.000  1.000  1.000  1.073  1.303  1.303  1.303   \n",
       "3  1995-07-23  1.073  1.000  1.000  1.000  1.000  1.000  0.100  1.000  1.000   \n",
       "4  1995-07-24  1.000  1.000  0.990  1.000  1.000  1.073  3.000  3.000  3.000   \n",
       "\n",
       "   ...       14     15     16     17      18      19      20     21     22  \\\n",
       "0  ...    1.073  1.073  1.073  1.073   1.074   1.897   1.897  1.897  1.073   \n",
       "1  ...    5.000  1.000  1.000  5.000  12.000  16.670  11.929  5.000  1.000   \n",
       "2  ...    1.073  1.000  1.000  1.000   1.303   2.500   2.500  1.303  1.073   \n",
       "3  ...    1.000  0.100  0.100  1.000   1.238   1.238   1.238  1.238  1.073   \n",
       "4  ...    1.073  1.073  3.000  2.000  18.630  22.500   9.256  3.000  1.073   \n",
       "\n",
       "      23  \n",
       "0  1.073  \n",
       "1  1.000  \n",
       "2  1.073  \n",
       "3  1.000  \n",
       "4  1.000  \n",
       "\n",
       "[5 rows x 25 columns]"
      ]
     },
     "execution_count": 56,
     "metadata": {},
     "output_type": "execute_result"
    }
   ],
   "source": [
    "import pandas as pd\n",
    "                \n",
    "x=[]\n",
    "\n",
    "for n in range(1995,2018):\n",
    "    if n < 2000:\n",
    "        skip = 3\n",
    "    else:\n",
    "        skip=2\n",
    "   \n",
    "    nombrearchivo= 'Precio_Bolsa_Nacional_($kwh)_'+str(n)\n",
    "    if n>=2016:\n",
    "        nombrearchivo +='.xls'\n",
    "    else:\n",
    "        nombrearchivo+='.xlsx'\n",
    "        \n",
    "    y = pd.read_excel(nombrearchivo, skiprows=skip, parse_cols=24)\n",
    "    x.append(y)\n",
    "z=pd.concat(x)\n",
    "z.head()"
   ]
  },
  {
   "cell_type": "markdown",
   "metadata": {},
   "source": [
    "**2.--** Compute e imprima el número de registros con datos faltantes."
   ]
  },
  {
   "cell_type": "code",
   "execution_count": 57,
   "metadata": {
    "collapsed": false
   },
   "outputs": [
    {
     "data": {
      "text/plain": [
       "28"
      ]
     },
     "execution_count": 57,
     "metadata": {},
     "output_type": "execute_result"
    }
   ],
   "source": [
    "# forma un nuevo archivo eliminando los registros faltantes\n",
    "y=z.dropna()  \n",
    "len(z)-len(y)"
   ]
  },
  {
   "cell_type": "markdown",
   "metadata": {},
   "source": [
    "**3.--** Compute e imprima el número de registros duplicados."
   ]
  },
  {
   "cell_type": "code",
   "execution_count": 58,
   "metadata": {
    "collapsed": false
   },
   "outputs": [
    {
     "data": {
      "text/plain": [
       "67"
      ]
     },
     "execution_count": 58,
     "metadata": {},
     "output_type": "execute_result"
    }
   ],
   "source": [
    "#Los datos guardados en Z, se le aplica la función de leer la longitud del arreglo en cuanto a los duplicados \n",
    "len(z[z.duplicated()])"
   ]
  },
  {
   "cell_type": "markdown",
   "metadata": {},
   "source": [
    "**4.--** Elimine los registros con datos duplicados o datos faltantes, e imprima la cantidad de registros que quedan (registros completos)."
   ]
  },
  {
   "cell_type": "code",
   "execution_count": 59,
   "metadata": {
    "collapsed": false
   },
   "outputs": [
    {
     "data": {
      "text/plain": [
       "7875"
      ]
     },
     "execution_count": 59,
     "metadata": {},
     "output_type": "execute_result"
    }
   ],
   "source": [
    "# La función drop permite borrar los datos na para los faltantes y duplicados\n",
    "#por ultimo, vuelve a leer la longitud del arreglo\n",
    "y=z.dropna()  \n",
    "y=y.drop_duplicates() \n",
    "len(y)"
   ]
  },
  {
   "cell_type": "markdown",
   "metadata": {},
   "source": [
    "**5.--** Compute y grafique el precio primedio diario."
   ]
  },
  {
   "cell_type": "code",
   "execution_count": 60,
   "metadata": {
    "collapsed": false
   },
   "outputs": [
    {
     "data": {
      "text/html": [
       "<div>\n",
       "<table border=\"1\" class=\"dataframe\">\n",
       "  <thead>\n",
       "    <tr style=\"text-align: right;\">\n",
       "      <th></th>\n",
       "      <th>Fecha</th>\n",
       "      <th>0</th>\n",
       "      <th>1</th>\n",
       "      <th>2</th>\n",
       "      <th>3</th>\n",
       "      <th>4</th>\n",
       "      <th>5</th>\n",
       "      <th>6</th>\n",
       "      <th>7</th>\n",
       "      <th>8</th>\n",
       "      <th>...</th>\n",
       "      <th>15</th>\n",
       "      <th>16</th>\n",
       "      <th>17</th>\n",
       "      <th>18</th>\n",
       "      <th>19</th>\n",
       "      <th>20</th>\n",
       "      <th>21</th>\n",
       "      <th>22</th>\n",
       "      <th>23</th>\n",
       "      <th>Promedio</th>\n",
       "    </tr>\n",
       "  </thead>\n",
       "  <tbody>\n",
       "    <tr>\n",
       "      <th>1</th>\n",
       "      <td>1995-07-21</td>\n",
       "      <td>1.073</td>\n",
       "      <td>1.000</td>\n",
       "      <td>1.000</td>\n",
       "      <td>1.00</td>\n",
       "      <td>1.00</td>\n",
       "      <td>1.000</td>\n",
       "      <td>5.000</td>\n",
       "      <td>6.000</td>\n",
       "      <td>6.000</td>\n",
       "      <td>...</td>\n",
       "      <td>1.000</td>\n",
       "      <td>1.000</td>\n",
       "      <td>5.000</td>\n",
       "      <td>12.000</td>\n",
       "      <td>16.670</td>\n",
       "      <td>11.929</td>\n",
       "      <td>5.000</td>\n",
       "      <td>1.000</td>\n",
       "      <td>1.000</td>\n",
       "      <td>4.924333</td>\n",
       "    </tr>\n",
       "    <tr>\n",
       "      <th>2</th>\n",
       "      <td>1995-07-22</td>\n",
       "      <td>1.073</td>\n",
       "      <td>1.073</td>\n",
       "      <td>1.000</td>\n",
       "      <td>1.00</td>\n",
       "      <td>1.00</td>\n",
       "      <td>1.073</td>\n",
       "      <td>1.303</td>\n",
       "      <td>1.303</td>\n",
       "      <td>1.303</td>\n",
       "      <td>...</td>\n",
       "      <td>1.000</td>\n",
       "      <td>1.000</td>\n",
       "      <td>1.000</td>\n",
       "      <td>1.303</td>\n",
       "      <td>2.500</td>\n",
       "      <td>2.500</td>\n",
       "      <td>1.303</td>\n",
       "      <td>1.073</td>\n",
       "      <td>1.073</td>\n",
       "      <td>1.269500</td>\n",
       "    </tr>\n",
       "    <tr>\n",
       "      <th>3</th>\n",
       "      <td>1995-07-23</td>\n",
       "      <td>1.073</td>\n",
       "      <td>1.000</td>\n",
       "      <td>1.000</td>\n",
       "      <td>1.00</td>\n",
       "      <td>1.00</td>\n",
       "      <td>1.000</td>\n",
       "      <td>0.100</td>\n",
       "      <td>1.000</td>\n",
       "      <td>1.000</td>\n",
       "      <td>...</td>\n",
       "      <td>0.100</td>\n",
       "      <td>0.100</td>\n",
       "      <td>1.000</td>\n",
       "      <td>1.238</td>\n",
       "      <td>1.238</td>\n",
       "      <td>1.238</td>\n",
       "      <td>1.238</td>\n",
       "      <td>1.073</td>\n",
       "      <td>1.000</td>\n",
       "      <td>0.953083</td>\n",
       "    </tr>\n",
       "    <tr>\n",
       "      <th>4</th>\n",
       "      <td>1995-07-24</td>\n",
       "      <td>1.000</td>\n",
       "      <td>1.000</td>\n",
       "      <td>0.990</td>\n",
       "      <td>1.00</td>\n",
       "      <td>1.00</td>\n",
       "      <td>1.073</td>\n",
       "      <td>3.000</td>\n",
       "      <td>3.000</td>\n",
       "      <td>3.000</td>\n",
       "      <td>...</td>\n",
       "      <td>1.073</td>\n",
       "      <td>3.000</td>\n",
       "      <td>2.000</td>\n",
       "      <td>18.630</td>\n",
       "      <td>22.500</td>\n",
       "      <td>9.256</td>\n",
       "      <td>3.000</td>\n",
       "      <td>1.073</td>\n",
       "      <td>1.000</td>\n",
       "      <td>4.305917</td>\n",
       "    </tr>\n",
       "    <tr>\n",
       "      <th>5</th>\n",
       "      <td>1995-07-25</td>\n",
       "      <td>0.990</td>\n",
       "      <td>0.990</td>\n",
       "      <td>0.989</td>\n",
       "      <td>0.99</td>\n",
       "      <td>0.99</td>\n",
       "      <td>1.073</td>\n",
       "      <td>1.263</td>\n",
       "      <td>1.263</td>\n",
       "      <td>1.263</td>\n",
       "      <td>...</td>\n",
       "      <td>1.073</td>\n",
       "      <td>1.073</td>\n",
       "      <td>1.073</td>\n",
       "      <td>1.263</td>\n",
       "      <td>1.500</td>\n",
       "      <td>1.263</td>\n",
       "      <td>1.263</td>\n",
       "      <td>1.073</td>\n",
       "      <td>0.990</td>\n",
       "      <td>1.149167</td>\n",
       "    </tr>\n",
       "  </tbody>\n",
       "</table>\n",
       "<p>5 rows × 26 columns</p>\n",
       "</div>"
      ],
      "text/plain": [
       "        Fecha      0      1      2     3     4      5      6      7      8  \\\n",
       "1  1995-07-21  1.073  1.000  1.000  1.00  1.00  1.000  5.000  6.000  6.000   \n",
       "2  1995-07-22  1.073  1.073  1.000  1.00  1.00  1.073  1.303  1.303  1.303   \n",
       "3  1995-07-23  1.073  1.000  1.000  1.00  1.00  1.000  0.100  1.000  1.000   \n",
       "4  1995-07-24  1.000  1.000  0.990  1.00  1.00  1.073  3.000  3.000  3.000   \n",
       "5  1995-07-25  0.990  0.990  0.989  0.99  0.99  1.073  1.263  1.263  1.263   \n",
       "\n",
       "     ...        15     16     17      18      19      20     21     22     23  \\\n",
       "1    ...     1.000  1.000  5.000  12.000  16.670  11.929  5.000  1.000  1.000   \n",
       "2    ...     1.000  1.000  1.000   1.303   2.500   2.500  1.303  1.073  1.073   \n",
       "3    ...     0.100  0.100  1.000   1.238   1.238   1.238  1.238  1.073  1.000   \n",
       "4    ...     1.073  3.000  2.000  18.630  22.500   9.256  3.000  1.073  1.000   \n",
       "5    ...     1.073  1.073  1.073   1.263   1.500   1.263  1.263  1.073  0.990   \n",
       "\n",
       "   Promedio  \n",
       "1  4.924333  \n",
       "2  1.269500  \n",
       "3  0.953083  \n",
       "4  4.305917  \n",
       "5  1.149167  \n",
       "\n",
       "[5 rows x 26 columns]"
      ]
     },
     "execution_count": 60,
     "metadata": {},
     "output_type": "execute_result"
    }
   ],
   "source": [
    "## Se llama a PM el Promedio Diario\n",
    "PM=y.mean(axis=1)\n",
    "y[\"Promedio\"]=PM\n",
    "y.head()"
   ]
  },
  {
   "cell_type": "code",
   "execution_count": 134,
   "metadata": {
    "collapsed": false
   },
   "outputs": [
    {
     "data": {
      "image/png": "[encoded data removed]",
      "text/plain": [
       "<matplotlib.figure.Figure at 0x140016f550>"
      ]
     },
     "metadata": {},
     "output_type": "display_data"
    }
   ],
   "source": [
    "import matplotlib.pyplot as plt\n",
    "plt.style.use('ggplot')\n",
    "a = pd.to_datetime(y[\"Fecha\"])\n",
    "b = y[\"Promedio\"]\n",
    "plt.plot(a,b)\n",
    "plt.ylabel(\"$/kWh\")\n",
    "plt.xlabel (\"Tiempo\")\n",
    "plt.title (\"Precio Bolsa Promedio día\")\n",
    "plt.show()"
   ]
  },
  {
   "cell_type": "markdown",
   "metadata": {},
   "source": [
    "**6.--** Compute y grafique el precio máximo por mes."
   ]
  },
  {
   "cell_type": "code",
   "execution_count": 62,
   "metadata": {
    "collapsed": false
   },
   "outputs": [
    {
     "data": {
      "text/html": [
       "<div>\n",
       "<table border=\"1\" class=\"dataframe\">\n",
       "  <thead>\n",
       "    <tr style=\"text-align: right;\">\n",
       "      <th></th>\n",
       "      <th>Fecha</th>\n",
       "      <th>0</th>\n",
       "      <th>1</th>\n",
       "      <th>2</th>\n",
       "      <th>3</th>\n",
       "      <th>4</th>\n",
       "      <th>5</th>\n",
       "      <th>6</th>\n",
       "      <th>7</th>\n",
       "      <th>8</th>\n",
       "      <th>...</th>\n",
       "      <th>16</th>\n",
       "      <th>17</th>\n",
       "      <th>18</th>\n",
       "      <th>19</th>\n",
       "      <th>20</th>\n",
       "      <th>21</th>\n",
       "      <th>22</th>\n",
       "      <th>23</th>\n",
       "      <th>Promedio</th>\n",
       "      <th>año-mes</th>\n",
       "    </tr>\n",
       "  </thead>\n",
       "  <tbody>\n",
       "    <tr>\n",
       "      <th>1</th>\n",
       "      <td>1995-07-21</td>\n",
       "      <td>1.073</td>\n",
       "      <td>1.000</td>\n",
       "      <td>1.000</td>\n",
       "      <td>1.00</td>\n",
       "      <td>1.00</td>\n",
       "      <td>1.000</td>\n",
       "      <td>5.000</td>\n",
       "      <td>6.000</td>\n",
       "      <td>6.000</td>\n",
       "      <td>...</td>\n",
       "      <td>1.000</td>\n",
       "      <td>5.000</td>\n",
       "      <td>12.000</td>\n",
       "      <td>16.670</td>\n",
       "      <td>11.929</td>\n",
       "      <td>5.000</td>\n",
       "      <td>1.000</td>\n",
       "      <td>1.000</td>\n",
       "      <td>4.924333</td>\n",
       "      <td>1995-07</td>\n",
       "    </tr>\n",
       "    <tr>\n",
       "      <th>2</th>\n",
       "      <td>1995-07-22</td>\n",
       "      <td>1.073</td>\n",
       "      <td>1.073</td>\n",
       "      <td>1.000</td>\n",
       "      <td>1.00</td>\n",
       "      <td>1.00</td>\n",
       "      <td>1.073</td>\n",
       "      <td>1.303</td>\n",
       "      <td>1.303</td>\n",
       "      <td>1.303</td>\n",
       "      <td>...</td>\n",
       "      <td>1.000</td>\n",
       "      <td>1.000</td>\n",
       "      <td>1.303</td>\n",
       "      <td>2.500</td>\n",
       "      <td>2.500</td>\n",
       "      <td>1.303</td>\n",
       "      <td>1.073</td>\n",
       "      <td>1.073</td>\n",
       "      <td>1.269500</td>\n",
       "      <td>1995-07</td>\n",
       "    </tr>\n",
       "    <tr>\n",
       "      <th>3</th>\n",
       "      <td>1995-07-23</td>\n",
       "      <td>1.073</td>\n",
       "      <td>1.000</td>\n",
       "      <td>1.000</td>\n",
       "      <td>1.00</td>\n",
       "      <td>1.00</td>\n",
       "      <td>1.000</td>\n",
       "      <td>0.100</td>\n",
       "      <td>1.000</td>\n",
       "      <td>1.000</td>\n",
       "      <td>...</td>\n",
       "      <td>0.100</td>\n",
       "      <td>1.000</td>\n",
       "      <td>1.238</td>\n",
       "      <td>1.238</td>\n",
       "      <td>1.238</td>\n",
       "      <td>1.238</td>\n",
       "      <td>1.073</td>\n",
       "      <td>1.000</td>\n",
       "      <td>0.953083</td>\n",
       "      <td>1995-07</td>\n",
       "    </tr>\n",
       "    <tr>\n",
       "      <th>4</th>\n",
       "      <td>1995-07-24</td>\n",
       "      <td>1.000</td>\n",
       "      <td>1.000</td>\n",
       "      <td>0.990</td>\n",
       "      <td>1.00</td>\n",
       "      <td>1.00</td>\n",
       "      <td>1.073</td>\n",
       "      <td>3.000</td>\n",
       "      <td>3.000</td>\n",
       "      <td>3.000</td>\n",
       "      <td>...</td>\n",
       "      <td>3.000</td>\n",
       "      <td>2.000</td>\n",
       "      <td>18.630</td>\n",
       "      <td>22.500</td>\n",
       "      <td>9.256</td>\n",
       "      <td>3.000</td>\n",
       "      <td>1.073</td>\n",
       "      <td>1.000</td>\n",
       "      <td>4.305917</td>\n",
       "      <td>1995-07</td>\n",
       "    </tr>\n",
       "    <tr>\n",
       "      <th>5</th>\n",
       "      <td>1995-07-25</td>\n",
       "      <td>0.990</td>\n",
       "      <td>0.990</td>\n",
       "      <td>0.989</td>\n",
       "      <td>0.99</td>\n",
       "      <td>0.99</td>\n",
       "      <td>1.073</td>\n",
       "      <td>1.263</td>\n",
       "      <td>1.263</td>\n",
       "      <td>1.263</td>\n",
       "      <td>...</td>\n",
       "      <td>1.073</td>\n",
       "      <td>1.073</td>\n",
       "      <td>1.263</td>\n",
       "      <td>1.500</td>\n",
       "      <td>1.263</td>\n",
       "      <td>1.263</td>\n",
       "      <td>1.073</td>\n",
       "      <td>0.990</td>\n",
       "      <td>1.149167</td>\n",
       "      <td>1995-07</td>\n",
       "    </tr>\n",
       "  </tbody>\n",
       "</table>\n",
       "<p>5 rows × 27 columns</p>\n",
       "</div>"
      ],
      "text/plain": [
       "        Fecha      0      1      2     3     4      5      6      7      8  \\\n",
       "1  1995-07-21  1.073  1.000  1.000  1.00  1.00  1.000  5.000  6.000  6.000   \n",
       "2  1995-07-22  1.073  1.073  1.000  1.00  1.00  1.073  1.303  1.303  1.303   \n",
       "3  1995-07-23  1.073  1.000  1.000  1.00  1.00  1.000  0.100  1.000  1.000   \n",
       "4  1995-07-24  1.000  1.000  0.990  1.00  1.00  1.073  3.000  3.000  3.000   \n",
       "5  1995-07-25  0.990  0.990  0.989  0.99  0.99  1.073  1.263  1.263  1.263   \n",
       "\n",
       "    ...        16     17      18      19      20     21     22     23  \\\n",
       "1   ...     1.000  5.000  12.000  16.670  11.929  5.000  1.000  1.000   \n",
       "2   ...     1.000  1.000   1.303   2.500   2.500  1.303  1.073  1.073   \n",
       "3   ...     0.100  1.000   1.238   1.238   1.238  1.238  1.073  1.000   \n",
       "4   ...     3.000  2.000  18.630  22.500   9.256  3.000  1.073  1.000   \n",
       "5   ...     1.073  1.073   1.263   1.500   1.263  1.263  1.073  0.990   \n",
       "\n",
       "   Promedio  año-mes  \n",
       "1  4.924333  1995-07  \n",
       "2  1.269500  1995-07  \n",
       "3  0.953083  1995-07  \n",
       "4  4.305917  1995-07  \n",
       "5  1.149167  1995-07  \n",
       "\n",
       "[5 rows x 27 columns]"
      ]
     },
     "execution_count": 62,
     "metadata": {},
     "output_type": "execute_result"
    }
   ],
   "source": [
    "## Sea PMAX el arreglo para guardar los valores correspondientes al precio máximo mensual\n",
    "PMAX=[]\n",
    "for n in range (len(y[\"Fecha\"])):\n",
    "    PMAX.append(str(y.iloc[n,0])[0:7])\n",
    "y[\"año-mes\"]=PMAX\n",
    "y.head()"
   ]
  },
  {
   "cell_type": "code",
   "execution_count": 63,
   "metadata": {
    "collapsed": false
   },
   "outputs": [
    {
     "data": {
      "text/plain": [
       "año-mes\n",
       "1995-07     22.500\n",
       "1995-08     40.000\n",
       "1995-09     40.572\n",
       "1995-10     33.700\n",
       "1995-11    111.907\n",
       "dtype: float64"
      ]
     },
     "execution_count": 63,
     "metadata": {},
     "output_type": "execute_result"
    }
   ],
   "source": [
    "Maxmes=y.groupby(\"año-mes\").max()\n",
    "Maxmes=Maxmes.max(axis=1)\n",
    "Maxmes.head()"
   ]
  },
  {
   "cell_type": "code",
   "execution_count": 85,
   "metadata": {
    "collapsed": false
   },
   "outputs": [
    {
     "data": {
      "image/png": "[encoded data removed]",
      "text/plain": [
       "<matplotlib.figure.Figure at 0x140059a518>"
      ]
     },
     "metadata": {},
     "output_type": "display_data"
    }
   ],
   "source": [
    "plt.plot(range(len(Maxmes)),Maxmes,label=\"Máximo Mes\",color=\"b\")\n",
    "plt.ylabel(\"$/kWh\")\n",
    "plt.title (\"Precio Máximo Mensual\")\n",
    "plt.bar(range(len(Maxmes)),Maxmes)\n",
    "plt.show()"
   ]
  },
  {
   "cell_type": "markdown",
   "metadata": {},
   "source": [
    "**7.--** Compute y grafique el precio mínimo mensual."
   ]
  },
  {
   "cell_type": "code",
   "execution_count": 66,
   "metadata": {
    "collapsed": false
   },
   "outputs": [
    {
     "data": {
      "text/plain": [
       "año-mes\n",
       "1995-07    0.000\n",
       "1995-08    0.000\n",
       "1995-09    1.073\n",
       "1995-10    0.000\n",
       "1995-11    1.072\n",
       "dtype: float64"
      ]
     },
     "execution_count": 66,
     "metadata": {},
     "output_type": "execute_result"
    }
   ],
   "source": [
    "Minmes=y.groupby(\"año-mes\").min()\n",
    "Minmes=Minmes.min(axis=1)\n",
    "Minmes.head()"
   ]
  },
  {
   "cell_type": "code",
   "execution_count": 86,
   "metadata": {
    "collapsed": false
   },
   "outputs": [
    {
     "data": {
      "image/png": "[encoded data removed]",
      "text/plain": [
       "<matplotlib.figure.Figure at 0x1478f05908>"
      ]
     },
     "metadata": {},
     "output_type": "display_data"
    }
   ],
   "source": [
    "plt.plot(range(len(Minmes)),Minmes,label=\"Mínimo Mes\",color=\"c\")\n",
    "plt.ylabel(\"$/kWh\")\n",
    "plt.title (\"Precio Mínimo Mensual\")\n",
    "plt.bar(range(len(Minmes)),Minmes)\n",
    "plt.show()"
   ]
  },
  {
   "cell_type": "markdown",
   "metadata": {},
   "source": [
    "**8.--** Haga un gráfico para comparar el precio máximo del mes (para cada mes) y el precio promedio mensual."
   ]
  },
  {
   "cell_type": "code",
   "execution_count": 69,
   "metadata": {
    "collapsed": false
   },
   "outputs": [],
   "source": [
    "Promes=y.groupby(\"año-mes\").mean()\n",
    "Promes=Promes.mean(axis=1)"
   ]
  },
  {
   "cell_type": "code",
   "execution_count": 124,
   "metadata": {
    "collapsed": false
   },
   "outputs": [
    {
     "data": {
      "image/png": "[encoded data removed]",
      "text/plain": [
       "<matplotlib.figure.Figure at 0x147eb56320>"
      ]
     },
     "metadata": {},
     "output_type": "display_data"
    }
   ],
   "source": [
    "plot1, =plt.plot(range(len(Promes)),Promes,label=\"Promedio Mes\",color=\"b\")\n",
    "plot2, =plt.plot(range(len(Maxmes)),Maxmes,label=\"Máximo Mes\",color=\"c\")\n",
    "plt.legend(handles=[plot1, plot2],loc=2)\n",
    "plt.ylabel(\"$/kWh\")\n",
    "plt.title (\"Precio Máximo y Precio Promedio Mensual\")\n",
    "plt.axhspan(0.9, 1, alpha = 0.1)  # Colocamos una banda de color para los valores f(x) > 0.9\n",
    "plt.show()"
   ]
  },
  {
   "cell_type": "markdown",
   "metadata": {},
   "source": [
    "**9.--** Haga un histograma que muestre a que horas se produce el máximo precio diario para los días laborales."
   ]
  },
  {
   "cell_type": "code",
   "execution_count": 92,
   "metadata": {
    "collapsed": false
   },
   "outputs": [],
   "source": [
    "Dia=[1,2,3,1,1,1,1]*int(len(y)/7)  ## el 21 de julio es viernes.  laborales 1, sabado 2 domingo 3\n",
    "y[\"Dia\"]=Dia"
   ]
  },
  {
   "cell_type": "code",
   "execution_count": 103,
   "metadata": {
    "collapsed": false
   },
   "outputs": [
    {
     "data": {
      "image/png": "[encoded data removed]",
      "text/plain": [
       "<matplotlib.figure.Figure at 0x147eae6128>"
      ]
     },
     "metadata": {},
     "output_type": "display_data"
    }
   ],
   "source": [
    "laboral=y[y[\"Dia\"]==1]  ## Dias laborales\n",
    "laboralindex=[\"line_{}\".format(n) for n in range(len(laboral))]\n",
    "laboral.index=laboralindex\n",
    "ymaxhd=[]\n",
    "ymaxh1d=[]\n",
    "for n in range(len(laboral)):\n",
    "    ymaxh1d=pd.Series(laboral.loc[\"line_\"+str(n)]).values[1:25]\n",
    "    ymaxhd.append ([i for i,e in enumerate(ymaxh1d) if e== max(ymaxh1d)])\n",
    "contar=[]\n",
    "for n in range (len(ymaxhd)):\n",
    "    for i in range (len(ymaxhd[n])):\n",
    "        contar.append(ymaxhd[n][i])\n",
    "plt.hist(contar,bins=24,color='c')\n",
    "plt.xlabel(\"Hora\")\n",
    "plt.ylabel(\"Frecuencia\")\n",
    "plt.title (\"Histograma Precio Máximo Diario - Días Laborales\")\n",
    "plt.show()"
   ]
  },
  {
   "cell_type": "markdown",
   "metadata": {},
   "source": [
    "**10.--** Haga un histograma que muestre a que horas se produce el máximo precio diario para los días sabado."
   ]
  },
  {
   "cell_type": "code",
   "execution_count": 106,
   "metadata": {
    "collapsed": false
   },
   "outputs": [
    {
     "data": {
      "image/png": "[encoded data removed]",
      "text/plain": [
       "<matplotlib.figure.Figure at 0x1400b526d8>"
      ]
     },
     "metadata": {},
     "output_type": "display_data"
    }
   ],
   "source": [
    "laboral=y[y[\"Dia\"]==2]  ## Dias sábado\n",
    "laboralindex=[\"line_{}\".format(n) for n in range(len(laboral))]\n",
    "laboral.index=laboralindex\n",
    "ymaxhd=[]\n",
    "ymaxh1d=[]\n",
    "for n in range(len(laboral)):\n",
    "    ymaxh1d=pd.Series(laboral.loc[\"line_\"+str(n)]).values[1:25]\n",
    "    ymaxhd.append ([i for i,e in enumerate(ymaxh1d) if e== max(ymaxh1d)])\n",
    "contar=[]\n",
    "for n in range (len(ymaxhd)):\n",
    "    for i in range (len(ymaxhd[n])):\n",
    "        contar.append(ymaxhd[n][i])\n",
    "plt.hist(contar,bins=24,color='m')\n",
    "plt.xlabel(\"Hora\")\n",
    "plt.ylabel(\"Frecuencia\")\n",
    "plt.title (\"Histograma Precio Máximo Diario - Sábados\")\n",
    "plt.show()"
   ]
  },
  {
   "cell_type": "markdown",
   "metadata": {},
   "source": [
    "**11.--** Haga un histograma que muestre a que horas se produce el máximo precio diario para los días domingo."
   ]
  },
  {
   "cell_type": "code",
   "execution_count": 27,
   "metadata": {
    "collapsed": false
   },
   "outputs": [
    {
     "data": {
      "image/png": "[encoded data removed]",
      "text/plain": [
       "<matplotlib.figure.Figure at 0x147e498e48>"
      ]
     },
     "metadata": {},
     "output_type": "display_data"
    }
   ],
   "source": [
    "laboral=y[y[\"Dia\"]==3]  ## Dias Domingo\n",
    "laboralindex=[\"line_{}\".format(n) for n in range(len(laboral))]\n",
    "laboral.index=laboralindex\n",
    "ymaxhd=[]\n",
    "ymaxh1d=[]\n",
    "for n in range(len(laboral)):\n",
    "    ymaxh1d=pd.Series(laboral.loc[\"line_\"+str(n)]).values[1:25]\n",
    "    ymaxhd.append ([i for i,e in enumerate(ymaxh1d) if e== max(ymaxh1d)])\n",
    "contar=[]\n",
    "for n in range (len(ymaxhd)):\n",
    "    for i in range (len(ymaxhd[n])):\n",
    "        contar.append(ymaxhd[n][i])\n",
    "plt.hist(contar,bins=24,color='blue')\n",
    "plt.xlabel(\"Hora\")\n",
    "plt.ylabel(\"Frecuencia\")\n",
    "plt.title (\"Histograma Precio Máximo Diario - Domingos\")\n",
    "plt.show()"
   ]
  },
  {
   "cell_type": "markdown",
   "metadata": {},
   "source": [
    "**12.--** Imprima una tabla con la fecha y el valor más bajo por año del precio de bolsa."
   ]
  },
  {
   "cell_type": "code",
   "execution_count": 28,
   "metadata": {
    "collapsed": true
   },
   "outputs": [],
   "source": [
    "w=y.min(axis=1)\n",
    "y[\"Min\"]=w"
   ]
  },
  {
   "cell_type": "code",
   "execution_count": 29,
   "metadata": {
    "collapsed": false
   },
   "outputs": [
    {
     "data": {
      "text/html": [
       "<div>\n",
       "<table border=\"1\" class=\"dataframe\">\n",
       "  <thead>\n",
       "    <tr style=\"text-align: right;\">\n",
       "      <th></th>\n",
       "      <th>Fecha</th>\n",
       "      <th>0</th>\n",
       "      <th>1</th>\n",
       "      <th>2</th>\n",
       "      <th>3</th>\n",
       "      <th>4</th>\n",
       "      <th>5</th>\n",
       "      <th>6</th>\n",
       "      <th>7</th>\n",
       "      <th>8</th>\n",
       "      <th>...</th>\n",
       "      <th>19</th>\n",
       "      <th>20</th>\n",
       "      <th>21</th>\n",
       "      <th>22</th>\n",
       "      <th>23</th>\n",
       "      <th>Promedio</th>\n",
       "      <th>año-mes</th>\n",
       "      <th>Dia</th>\n",
       "      <th>Min</th>\n",
       "      <th>año</th>\n",
       "    </tr>\n",
       "  </thead>\n",
       "  <tbody>\n",
       "    <tr>\n",
       "      <th>38</th>\n",
       "      <td>2017-02-08</td>\n",
       "      <td>116.070672</td>\n",
       "      <td>116.070672</td>\n",
       "      <td>116.070672</td>\n",
       "      <td>116.070672</td>\n",
       "      <td>116.070672</td>\n",
       "      <td>116.070672</td>\n",
       "      <td>119.070672</td>\n",
       "      <td>119.070672</td>\n",
       "      <td>126.570672</td>\n",
       "      <td>...</td>\n",
       "      <td>249.215672</td>\n",
       "      <td>151.070672</td>\n",
       "      <td>126.570672</td>\n",
       "      <td>126.570672</td>\n",
       "      <td>116.070672</td>\n",
       "      <td>131.514214</td>\n",
       "      <td>2017-02</td>\n",
       "      <td>3</td>\n",
       "      <td>3.0</td>\n",
       "      <td>2017</td>\n",
       "    </tr>\n",
       "    <tr>\n",
       "      <th>39</th>\n",
       "      <td>2017-02-09</td>\n",
       "      <td>117.853455</td>\n",
       "      <td>125.852455</td>\n",
       "      <td>110.853455</td>\n",
       "      <td>110.853455</td>\n",
       "      <td>115.833455</td>\n",
       "      <td>125.852455</td>\n",
       "      <td>125.852455</td>\n",
       "      <td>125.852455</td>\n",
       "      <td>125.853455</td>\n",
       "      <td>...</td>\n",
       "      <td>206.853455</td>\n",
       "      <td>182.353455</td>\n",
       "      <td>125.853455</td>\n",
       "      <td>125.852455</td>\n",
       "      <td>117.853455</td>\n",
       "      <td>133.727413</td>\n",
       "      <td>2017-02</td>\n",
       "      <td>1</td>\n",
       "      <td>1.0</td>\n",
       "      <td>2017</td>\n",
       "    </tr>\n",
       "    <tr>\n",
       "      <th>40</th>\n",
       "      <td>2017-02-10</td>\n",
       "      <td>133.799407</td>\n",
       "      <td>133.799407</td>\n",
       "      <td>117.799407</td>\n",
       "      <td>117.799407</td>\n",
       "      <td>125.699407</td>\n",
       "      <td>133.799407</td>\n",
       "      <td>133.799407</td>\n",
       "      <td>133.799407</td>\n",
       "      <td>161.798407</td>\n",
       "      <td>...</td>\n",
       "      <td>206.799407</td>\n",
       "      <td>221.799407</td>\n",
       "      <td>161.798407</td>\n",
       "      <td>161.798407</td>\n",
       "      <td>133.799407</td>\n",
       "      <td>167.128157</td>\n",
       "      <td>2017-02</td>\n",
       "      <td>1</td>\n",
       "      <td>1.0</td>\n",
       "      <td>2017</td>\n",
       "    </tr>\n",
       "    <tr>\n",
       "      <th>41</th>\n",
       "      <td>2017-02-11</td>\n",
       "      <td>132.603212</td>\n",
       "      <td>131.604212</td>\n",
       "      <td>131.604212</td>\n",
       "      <td>131.604212</td>\n",
       "      <td>131.604212</td>\n",
       "      <td>131.604212</td>\n",
       "      <td>132.603212</td>\n",
       "      <td>132.603212</td>\n",
       "      <td>132.603212</td>\n",
       "      <td>...</td>\n",
       "      <td>207.604212</td>\n",
       "      <td>163.104212</td>\n",
       "      <td>162.604212</td>\n",
       "      <td>162.604212</td>\n",
       "      <td>132.603212</td>\n",
       "      <td>151.908170</td>\n",
       "      <td>2017-02</td>\n",
       "      <td>1</td>\n",
       "      <td>1.0</td>\n",
       "      <td>2017</td>\n",
       "    </tr>\n",
       "    <tr>\n",
       "      <th>42</th>\n",
       "      <td>2017-02-12</td>\n",
       "      <td>141.109843</td>\n",
       "      <td>141.109843</td>\n",
       "      <td>141.109843</td>\n",
       "      <td>139.610843</td>\n",
       "      <td>128.110843</td>\n",
       "      <td>162.010843</td>\n",
       "      <td>128.110843</td>\n",
       "      <td>128.110843</td>\n",
       "      <td>141.109843</td>\n",
       "      <td>...</td>\n",
       "      <td>162.010843</td>\n",
       "      <td>151.110843</td>\n",
       "      <td>151.110843</td>\n",
       "      <td>141.109843</td>\n",
       "      <td>141.109843</td>\n",
       "      <td>142.414385</td>\n",
       "      <td>2017-02</td>\n",
       "      <td>1</td>\n",
       "      <td>1.0</td>\n",
       "      <td>2017</td>\n",
       "    </tr>\n",
       "  </tbody>\n",
       "</table>\n",
       "<p>5 rows × 30 columns</p>\n",
       "</div>"
      ],
      "text/plain": [
       "         Fecha           0           1           2           3           4  \\\n",
       "38  2017-02-08  116.070672  116.070672  116.070672  116.070672  116.070672   \n",
       "39  2017-02-09  117.853455  125.852455  110.853455  110.853455  115.833455   \n",
       "40  2017-02-10  133.799407  133.799407  117.799407  117.799407  125.699407   \n",
       "41  2017-02-11  132.603212  131.604212  131.604212  131.604212  131.604212   \n",
       "42  2017-02-12  141.109843  141.109843  141.109843  139.610843  128.110843   \n",
       "\n",
       "             5           6           7           8  ...           19  \\\n",
       "38  116.070672  119.070672  119.070672  126.570672  ...   249.215672   \n",
       "39  125.852455  125.852455  125.852455  125.853455  ...   206.853455   \n",
       "40  133.799407  133.799407  133.799407  161.798407  ...   206.799407   \n",
       "41  131.604212  132.603212  132.603212  132.603212  ...   207.604212   \n",
       "42  162.010843  128.110843  128.110843  141.109843  ...   162.010843   \n",
       "\n",
       "            20          21          22          23    Promedio  año-mes  Dia  \\\n",
       "38  151.070672  126.570672  126.570672  116.070672  131.514214  2017-02    3   \n",
       "39  182.353455  125.853455  125.852455  117.853455  133.727413  2017-02    1   \n",
       "40  221.799407  161.798407  161.798407  133.799407  167.128157  2017-02    1   \n",
       "41  163.104212  162.604212  162.604212  132.603212  151.908170  2017-02    1   \n",
       "42  151.110843  151.110843  141.109843  141.109843  142.414385  2017-02    1   \n",
       "\n",
       "    Min   año  \n",
       "38  3.0  2017  \n",
       "39  1.0  2017  \n",
       "40  1.0  2017  \n",
       "41  1.0  2017  \n",
       "42  1.0  2017  \n",
       "\n",
       "[5 rows x 30 columns]"
      ]
     },
     "execution_count": 29,
     "metadata": {},
     "output_type": "execute_result"
    }
   ],
   "source": [
    "v=[]\n",
    "for n in range (len(y[\"Fecha\"])):\n",
    "    v.append(str(y.iloc[n,0])[0:4])\n",
    "y[\"año\"]=v\n",
    "y.tail()"
   ]
  },
  {
   "cell_type": "code",
   "execution_count": 30,
   "metadata": {
    "collapsed": false
   },
   "outputs": [
    {
     "data": {
      "text/plain": [
       "año\n",
       "1995    0.0\n",
       "1996    0.0\n",
       "1997    1.0\n",
       "1998    1.0\n",
       "1999    1.0\n",
       "2000    1.0\n",
       "2001    1.0\n",
       "2002    1.0\n",
       "2003    1.0\n",
       "2004    1.0\n",
       "2005    1.0\n",
       "2006    1.0\n",
       "2007    1.0\n",
       "2008    1.0\n",
       "2009    1.0\n",
       "2010    1.0\n",
       "2011    1.0\n",
       "2012    1.0\n",
       "2013    1.0\n",
       "2014    1.0\n",
       "2015    1.0\n",
       "2016    1.0\n",
       "2017    1.0\n",
       "dtype: float64"
      ]
     },
     "execution_count": 30,
     "metadata": {},
     "output_type": "execute_result"
    }
   ],
   "source": [
    "## Mínimo Pbolsa por año\n",
    "Minano=y.groupby(\"año\").min()\n",
    "Minano=Minano.min(axis=1)\n",
    "Minano"
   ]
  },
  {
   "cell_type": "code",
   "execution_count": 31,
   "metadata": {
    "collapsed": false
   },
   "outputs": [
    {
     "data": {
      "text/html": [
       "<div>\n",
       "<table border=\"1\" class=\"dataframe\">\n",
       "  <thead>\n",
       "    <tr style=\"text-align: right;\">\n",
       "      <th></th>\n",
       "      <th>Año</th>\n",
       "      <th>Mínimo</th>\n",
       "      <th>Fechas_ocurrencia</th>\n",
       "    </tr>\n",
       "  </thead>\n",
       "  <tbody>\n",
       "    <tr>\n",
       "      <th>0</th>\n",
       "      <td>1995</td>\n",
       "      <td>0.0</td>\n",
       "      <td>1995-07-26</td>\n",
       "    </tr>\n",
       "    <tr>\n",
       "      <th>1</th>\n",
       "      <td>1995</td>\n",
       "      <td>0.0</td>\n",
       "      <td>1995-07-28</td>\n",
       "    </tr>\n",
       "    <tr>\n",
       "      <th>2</th>\n",
       "      <td>1995</td>\n",
       "      <td>0.0</td>\n",
       "      <td>1995-07-29</td>\n",
       "    </tr>\n",
       "    <tr>\n",
       "      <th>3</th>\n",
       "      <td>1995</td>\n",
       "      <td>0.0</td>\n",
       "      <td>1995-07-30</td>\n",
       "    </tr>\n",
       "    <tr>\n",
       "      <th>4</th>\n",
       "      <td>1995</td>\n",
       "      <td>0.0</td>\n",
       "      <td>1995-07-31</td>\n",
       "    </tr>\n",
       "    <tr>\n",
       "      <th>5</th>\n",
       "      <td>1995</td>\n",
       "      <td>0.0</td>\n",
       "      <td>1995-08-01</td>\n",
       "    </tr>\n",
       "    <tr>\n",
       "      <th>6</th>\n",
       "      <td>1995</td>\n",
       "      <td>0.0</td>\n",
       "      <td>1995-10-13</td>\n",
       "    </tr>\n",
       "    <tr>\n",
       "      <th>0</th>\n",
       "      <td>1996</td>\n",
       "      <td>0.0</td>\n",
       "      <td>1996-05-10 00:00:00</td>\n",
       "    </tr>\n",
       "    <tr>\n",
       "      <th>1</th>\n",
       "      <td>1996</td>\n",
       "      <td>0.0</td>\n",
       "      <td>1996-06-30 00:00:00</td>\n",
       "    </tr>\n",
       "    <tr>\n",
       "      <th>2</th>\n",
       "      <td>1996</td>\n",
       "      <td>0.0</td>\n",
       "      <td>1996-07-04 00:00:00</td>\n",
       "    </tr>\n",
       "    <tr>\n",
       "      <th>3</th>\n",
       "      <td>1996</td>\n",
       "      <td>0.0</td>\n",
       "      <td>1996-07-08 00:00:00</td>\n",
       "    </tr>\n",
       "    <tr>\n",
       "      <th>4</th>\n",
       "      <td>1996</td>\n",
       "      <td>0.0</td>\n",
       "      <td>1996-07-09 00:00:00</td>\n",
       "    </tr>\n",
       "    <tr>\n",
       "      <th>5</th>\n",
       "      <td>1996</td>\n",
       "      <td>0.0</td>\n",
       "      <td>1996-07-11 00:00:00</td>\n",
       "    </tr>\n",
       "    <tr>\n",
       "      <th>6</th>\n",
       "      <td>1996</td>\n",
       "      <td>0.0</td>\n",
       "      <td>1996-07-12 00:00:00</td>\n",
       "    </tr>\n",
       "    <tr>\n",
       "      <th>7</th>\n",
       "      <td>1996</td>\n",
       "      <td>0.0</td>\n",
       "      <td>1996-07-21 00:00:00</td>\n",
       "    </tr>\n",
       "    <tr>\n",
       "      <th>8</th>\n",
       "      <td>1996</td>\n",
       "      <td>0.0</td>\n",
       "      <td>1996-07-22 00:00:00</td>\n",
       "    </tr>\n",
       "    <tr>\n",
       "      <th>9</th>\n",
       "      <td>1996</td>\n",
       "      <td>0.0</td>\n",
       "      <td>1996-07-23 00:00:00</td>\n",
       "    </tr>\n",
       "    <tr>\n",
       "      <th>10</th>\n",
       "      <td>1996</td>\n",
       "      <td>0.0</td>\n",
       "      <td>1996-07-24 00:00:00</td>\n",
       "    </tr>\n",
       "    <tr>\n",
       "      <th>0</th>\n",
       "      <td>1997</td>\n",
       "      <td>1.0</td>\n",
       "      <td>1997-01-01 00:00:00</td>\n",
       "    </tr>\n",
       "    <tr>\n",
       "      <th>1</th>\n",
       "      <td>1997</td>\n",
       "      <td>1.0</td>\n",
       "      <td>1997-01-02 00:00:00</td>\n",
       "    </tr>\n",
       "    <tr>\n",
       "      <th>2</th>\n",
       "      <td>1997</td>\n",
       "      <td>1.0</td>\n",
       "      <td>1997-01-03 00:00:00</td>\n",
       "    </tr>\n",
       "    <tr>\n",
       "      <th>3</th>\n",
       "      <td>1997</td>\n",
       "      <td>1.0</td>\n",
       "      <td>1997-01-06 00:00:00</td>\n",
       "    </tr>\n",
       "    <tr>\n",
       "      <th>4</th>\n",
       "      <td>1997</td>\n",
       "      <td>1.0</td>\n",
       "      <td>1997-01-07 00:00:00</td>\n",
       "    </tr>\n",
       "    <tr>\n",
       "      <th>5</th>\n",
       "      <td>1997</td>\n",
       "      <td>1.0</td>\n",
       "      <td>1997-01-08 00:00:00</td>\n",
       "    </tr>\n",
       "    <tr>\n",
       "      <th>6</th>\n",
       "      <td>1997</td>\n",
       "      <td>1.0</td>\n",
       "      <td>1997-01-09 00:00:00</td>\n",
       "    </tr>\n",
       "    <tr>\n",
       "      <th>7</th>\n",
       "      <td>1997</td>\n",
       "      <td>1.0</td>\n",
       "      <td>1997-01-10 00:00:00</td>\n",
       "    </tr>\n",
       "    <tr>\n",
       "      <th>8</th>\n",
       "      <td>1997</td>\n",
       "      <td>1.0</td>\n",
       "      <td>1997-01-13 00:00:00</td>\n",
       "    </tr>\n",
       "    <tr>\n",
       "      <th>9</th>\n",
       "      <td>1997</td>\n",
       "      <td>1.0</td>\n",
       "      <td>1997-01-14 00:00:00</td>\n",
       "    </tr>\n",
       "    <tr>\n",
       "      <th>10</th>\n",
       "      <td>1997</td>\n",
       "      <td>1.0</td>\n",
       "      <td>1997-01-15 00:00:00</td>\n",
       "    </tr>\n",
       "    <tr>\n",
       "      <th>11</th>\n",
       "      <td>1997</td>\n",
       "      <td>1.0</td>\n",
       "      <td>1997-01-16 00:00:00</td>\n",
       "    </tr>\n",
       "    <tr>\n",
       "      <th>...</th>\n",
       "      <td>...</td>\n",
       "      <td>...</td>\n",
       "      <td>...</td>\n",
       "    </tr>\n",
       "    <tr>\n",
       "      <th>1</th>\n",
       "      <td>2017</td>\n",
       "      <td>1.0</td>\n",
       "      <td>2017-01-02</td>\n",
       "    </tr>\n",
       "    <tr>\n",
       "      <th>2</th>\n",
       "      <td>2017</td>\n",
       "      <td>1.0</td>\n",
       "      <td>2017-01-05</td>\n",
       "    </tr>\n",
       "    <tr>\n",
       "      <th>3</th>\n",
       "      <td>2017</td>\n",
       "      <td>1.0</td>\n",
       "      <td>2017-01-06</td>\n",
       "    </tr>\n",
       "    <tr>\n",
       "      <th>4</th>\n",
       "      <td>2017</td>\n",
       "      <td>1.0</td>\n",
       "      <td>2017-01-07</td>\n",
       "    </tr>\n",
       "    <tr>\n",
       "      <th>5</th>\n",
       "      <td>2017</td>\n",
       "      <td>1.0</td>\n",
       "      <td>2017-01-08</td>\n",
       "    </tr>\n",
       "    <tr>\n",
       "      <th>6</th>\n",
       "      <td>2017</td>\n",
       "      <td>1.0</td>\n",
       "      <td>2017-01-09</td>\n",
       "    </tr>\n",
       "    <tr>\n",
       "      <th>7</th>\n",
       "      <td>2017</td>\n",
       "      <td>1.0</td>\n",
       "      <td>2017-01-12</td>\n",
       "    </tr>\n",
       "    <tr>\n",
       "      <th>8</th>\n",
       "      <td>2017</td>\n",
       "      <td>1.0</td>\n",
       "      <td>2017-01-13</td>\n",
       "    </tr>\n",
       "    <tr>\n",
       "      <th>9</th>\n",
       "      <td>2017</td>\n",
       "      <td>1.0</td>\n",
       "      <td>2017-01-14</td>\n",
       "    </tr>\n",
       "    <tr>\n",
       "      <th>10</th>\n",
       "      <td>2017</td>\n",
       "      <td>1.0</td>\n",
       "      <td>2017-01-15</td>\n",
       "    </tr>\n",
       "    <tr>\n",
       "      <th>11</th>\n",
       "      <td>2017</td>\n",
       "      <td>1.0</td>\n",
       "      <td>2017-01-16</td>\n",
       "    </tr>\n",
       "    <tr>\n",
       "      <th>12</th>\n",
       "      <td>2017</td>\n",
       "      <td>1.0</td>\n",
       "      <td>2017-01-19</td>\n",
       "    </tr>\n",
       "    <tr>\n",
       "      <th>13</th>\n",
       "      <td>2017</td>\n",
       "      <td>1.0</td>\n",
       "      <td>2017-01-20</td>\n",
       "    </tr>\n",
       "    <tr>\n",
       "      <th>14</th>\n",
       "      <td>2017</td>\n",
       "      <td>1.0</td>\n",
       "      <td>2017-01-21</td>\n",
       "    </tr>\n",
       "    <tr>\n",
       "      <th>15</th>\n",
       "      <td>2017</td>\n",
       "      <td>1.0</td>\n",
       "      <td>2017-01-22</td>\n",
       "    </tr>\n",
       "    <tr>\n",
       "      <th>16</th>\n",
       "      <td>2017</td>\n",
       "      <td>1.0</td>\n",
       "      <td>2017-01-23</td>\n",
       "    </tr>\n",
       "    <tr>\n",
       "      <th>17</th>\n",
       "      <td>2017</td>\n",
       "      <td>1.0</td>\n",
       "      <td>2017-01-26</td>\n",
       "    </tr>\n",
       "    <tr>\n",
       "      <th>18</th>\n",
       "      <td>2017</td>\n",
       "      <td>1.0</td>\n",
       "      <td>2017-01-27</td>\n",
       "    </tr>\n",
       "    <tr>\n",
       "      <th>19</th>\n",
       "      <td>2017</td>\n",
       "      <td>1.0</td>\n",
       "      <td>2017-01-28</td>\n",
       "    </tr>\n",
       "    <tr>\n",
       "      <th>20</th>\n",
       "      <td>2017</td>\n",
       "      <td>1.0</td>\n",
       "      <td>2017-01-29</td>\n",
       "    </tr>\n",
       "    <tr>\n",
       "      <th>21</th>\n",
       "      <td>2017</td>\n",
       "      <td>1.0</td>\n",
       "      <td>2017-01-30</td>\n",
       "    </tr>\n",
       "    <tr>\n",
       "      <th>22</th>\n",
       "      <td>2017</td>\n",
       "      <td>1.0</td>\n",
       "      <td>2017-02-02</td>\n",
       "    </tr>\n",
       "    <tr>\n",
       "      <th>23</th>\n",
       "      <td>2017</td>\n",
       "      <td>1.0</td>\n",
       "      <td>2017-02-03</td>\n",
       "    </tr>\n",
       "    <tr>\n",
       "      <th>24</th>\n",
       "      <td>2017</td>\n",
       "      <td>1.0</td>\n",
       "      <td>2017-02-04</td>\n",
       "    </tr>\n",
       "    <tr>\n",
       "      <th>25</th>\n",
       "      <td>2017</td>\n",
       "      <td>1.0</td>\n",
       "      <td>2017-02-05</td>\n",
       "    </tr>\n",
       "    <tr>\n",
       "      <th>26</th>\n",
       "      <td>2017</td>\n",
       "      <td>1.0</td>\n",
       "      <td>2017-02-06</td>\n",
       "    </tr>\n",
       "    <tr>\n",
       "      <th>27</th>\n",
       "      <td>2017</td>\n",
       "      <td>1.0</td>\n",
       "      <td>2017-02-09</td>\n",
       "    </tr>\n",
       "    <tr>\n",
       "      <th>28</th>\n",
       "      <td>2017</td>\n",
       "      <td>1.0</td>\n",
       "      <td>2017-02-10</td>\n",
       "    </tr>\n",
       "    <tr>\n",
       "      <th>29</th>\n",
       "      <td>2017</td>\n",
       "      <td>1.0</td>\n",
       "      <td>2017-02-11</td>\n",
       "    </tr>\n",
       "    <tr>\n",
       "      <th>30</th>\n",
       "      <td>2017</td>\n",
       "      <td>1.0</td>\n",
       "      <td>2017-02-12</td>\n",
       "    </tr>\n",
       "  </tbody>\n",
       "</table>\n",
       "<p>5265 rows × 3 columns</p>\n",
       "</div>"
      ],
      "text/plain": [
       "     Año  Mínimo    Fechas_ocurrencia\n",
       "0   1995     0.0           1995-07-26\n",
       "1   1995     0.0           1995-07-28\n",
       "2   1995     0.0           1995-07-29\n",
       "3   1995     0.0           1995-07-30\n",
       "4   1995     0.0           1995-07-31\n",
       "5   1995     0.0           1995-08-01\n",
       "6   1995     0.0           1995-10-13\n",
       "0   1996     0.0  1996-05-10 00:00:00\n",
       "1   1996     0.0  1996-06-30 00:00:00\n",
       "2   1996     0.0  1996-07-04 00:00:00\n",
       "3   1996     0.0  1996-07-08 00:00:00\n",
       "4   1996     0.0  1996-07-09 00:00:00\n",
       "5   1996     0.0  1996-07-11 00:00:00\n",
       "6   1996     0.0  1996-07-12 00:00:00\n",
       "7   1996     0.0  1996-07-21 00:00:00\n",
       "8   1996     0.0  1996-07-22 00:00:00\n",
       "9   1996     0.0  1996-07-23 00:00:00\n",
       "10  1996     0.0  1996-07-24 00:00:00\n",
       "0   1997     1.0  1997-01-01 00:00:00\n",
       "1   1997     1.0  1997-01-02 00:00:00\n",
       "2   1997     1.0  1997-01-03 00:00:00\n",
       "3   1997     1.0  1997-01-06 00:00:00\n",
       "4   1997     1.0  1997-01-07 00:00:00\n",
       "5   1997     1.0  1997-01-08 00:00:00\n",
       "6   1997     1.0  1997-01-09 00:00:00\n",
       "7   1997     1.0  1997-01-10 00:00:00\n",
       "8   1997     1.0  1997-01-13 00:00:00\n",
       "9   1997     1.0  1997-01-14 00:00:00\n",
       "10  1997     1.0  1997-01-15 00:00:00\n",
       "11  1997     1.0  1997-01-16 00:00:00\n",
       "..   ...     ...                  ...\n",
       "1   2017     1.0           2017-01-02\n",
       "2   2017     1.0           2017-01-05\n",
       "3   2017     1.0           2017-01-06\n",
       "4   2017     1.0           2017-01-07\n",
       "5   2017     1.0           2017-01-08\n",
       "6   2017     1.0           2017-01-09\n",
       "7   2017     1.0           2017-01-12\n",
       "8   2017     1.0           2017-01-13\n",
       "9   2017     1.0           2017-01-14\n",
       "10  2017     1.0           2017-01-15\n",
       "11  2017     1.0           2017-01-16\n",
       "12  2017     1.0           2017-01-19\n",
       "13  2017     1.0           2017-01-20\n",
       "14  2017     1.0           2017-01-21\n",
       "15  2017     1.0           2017-01-22\n",
       "16  2017     1.0           2017-01-23\n",
       "17  2017     1.0           2017-01-26\n",
       "18  2017     1.0           2017-01-27\n",
       "19  2017     1.0           2017-01-28\n",
       "20  2017     1.0           2017-01-29\n",
       "21  2017     1.0           2017-01-30\n",
       "22  2017     1.0           2017-02-02\n",
       "23  2017     1.0           2017-02-03\n",
       "24  2017     1.0           2017-02-04\n",
       "25  2017     1.0           2017-02-05\n",
       "26  2017     1.0           2017-02-06\n",
       "27  2017     1.0           2017-02-09\n",
       "28  2017     1.0           2017-02-10\n",
       "29  2017     1.0           2017-02-11\n",
       "30  2017     1.0           2017-02-12\n",
       "\n",
       "[5265 rows x 3 columns]"
      ]
     },
     "execution_count": 31,
     "metadata": {},
     "output_type": "execute_result"
    }
   ],
   "source": [
    "## Como el mínimo ocurre más de una fecha del año, se buscarán las fechas en que se presentó.\n",
    "Tabla=[]\n",
    "for j in range (1995,2018):  # se hace un recorrido por años\n",
    "    ano = y[y[\"año\"]==str(j)]\n",
    "    ano=ano[[\"Fecha\",\"año\",\"Min\"]] # se elije tabla solo con columnas fecha, año y minimo\n",
    "    minano=[]\n",
    "    minano1=[]\n",
    "    minano1=pd.Series(ano[\"Min\"]).values # se elije la serie de mínimos para el año\n",
    "    minano.append ([i for i,e in enumerate(minano1) if e== min(minano1)]) #posición del mínimo\n",
    "    #artificio para volver a una serie lo obtenido\n",
    "    contar=[]\n",
    "    for n in range (len(minano)):\n",
    "        for i in range (len(minano[n])):\n",
    "            contar.append(minano[n][i])\n",
    "    # Creación de tabla con fecha del mínimo, el mínimo y el año\n",
    "    Tfecha=[]\n",
    "    Tano=[]\n",
    "    Tmin=[]\n",
    "    for n in range (len(contar)):\n",
    "        Tfecha.append(ano.iloc[contar[n],0]) #Usando la posición lee el valor del archivo original \"ano\"\n",
    "        Tano.append(ano.iloc[contar[n],1])\n",
    "        Tmin.append(ano.iloc[contar[n],2])\n",
    "    Total=[]\n",
    "    Total=pd.DataFrame(Tano, columns=[\"Año\"])\n",
    "    Total [\"Mínimo\"]=Tmin\n",
    "    Total [\"Fechas_ocurrencia\"]=Tfecha\n",
    "    Tabla.append(Total)\n",
    "Ttabla=pd.concat(Tabla)\n",
    "Ttabla"
   ]
  },
  {
   "cell_type": "markdown",
   "metadata": {},
   "source": [
    "**13.--** Haga una gráfica en que se muestre el precio promedio diario y el precio promedio mensual."
   ]
  },
  {
   "cell_type": "code",
   "execution_count": 111,
   "metadata": {
    "collapsed": true
   },
   "outputs": [],
   "source": [
    "##Adiciono columna año-mes a y\n",
    "v=[]\n",
    "for n in range (len(y[\"Fecha\"])):\n",
    "    v.append(str(y.iloc[n,0])[0:7])\n",
    "y[\"año_y_mes\"]=v"
   ]
  },
  {
   "cell_type": "code",
   "execution_count": 112,
   "metadata": {
    "collapsed": true
   },
   "outputs": [],
   "source": [
    "##Calculo promedio mes\n",
    "Promes=y.groupby(\"año_y_mes\").mean()\n",
    "Promes=Promes.mean(axis=1)"
   ]
  },
  {
   "cell_type": "code",
   "execution_count": 113,
   "metadata": {
    "collapsed": true
   },
   "outputs": [],
   "source": [
    "## Se almacena en lista los años-meses\n",
    "p=list(Promes.axes[0])"
   ]
  },
  {
   "cell_type": "code",
   "execution_count": 114,
   "metadata": {
    "collapsed": true
   },
   "outputs": [],
   "source": [
    "tanomes=[]\n",
    "for n in range(len(p)): \n",
    "    mes=[Promes[n]]*len(y[y[\"año_y_mes\"]==p[n]])\n",
    "    tanomes.append(mes)\n",
    "##tanomes\n",
    "#artificio para volver a una serie lo obtenido\n",
    "contar=[]\n",
    "for n in range (len(tanomes)):\n",
    "    for i in range (len(tanomes[n])):\n",
    "        contar.append(tanomes[n][i])"
   ]
  },
  {
   "cell_type": "code",
   "execution_count": 115,
   "metadata": {
    "collapsed": true
   },
   "outputs": [],
   "source": [
    "##Adiciono columna Promedio-mes\n",
    "y[\"Promedio_mes\"]=contar"
   ]
  },
  {
   "cell_type": "code",
   "execution_count": 130,
   "metadata": {
    "collapsed": false
   },
   "outputs": [
    {
     "data": {
      "image/png": "[encoded data removed]",
      "text/plain": [
       "<matplotlib.figure.Figure at 0x147f7c47b8>"
      ]
     },
     "metadata": {},
     "output_type": "display_data"
    }
   ],
   "source": [
    "##Grafico\n",
    "import matplotlib.pyplot as plt\n",
    "a = pd.to_datetime(y[\"Fecha\"])\n",
    "b = y[\"Promedio\"]\n",
    "c = y[\"Promedio_mes\"]\n",
    "plot1, =plt.plot(a,b, label=\"PromDiario\",color=\"b\")\n",
    "plot2, =plt.plot(a,c,label=\"PromMensual\",color=\"c\")\n",
    "plt.legend(handles=[plot1, plot2],loc=2)\n",
    "plt.ylabel(\"$/kWh\")\n",
    "plt.xlabel (\"Tiempo\")\n",
    "plt.title (\"Precio Bolsa Promedio día y Promedio mes\")\n",
    "plt.show()"
   ]
  },
  {
   "cell_type": "markdown",
   "metadata": {},
   "source": [
    "---"
   ]
  },
  {
   "cell_type": "code",
   "execution_count": null,
   "metadata": {
    "collapsed": true
   },
   "outputs": [],
   "source": [
    "## Dirección URL para acceder al documento: "
   ]
  }
 ],
 "metadata": {
  "anaconda-cloud": {},
  "kernelspec": {
   "display_name": "Python [default]",
   "language": "python",
   "name": "python3"
  },
  "language_info": {
   "codemirror_mode": {
    "name": "ipython",
    "version": 3
   },
   "file_extension": ".py",
   "mimetype": "text/x-python",
   "name": "python",
   "nbconvert_exporter": "python",
   "pygments_lexer": "ipython3",
   "version": "3.5.2"
  }
 },
 "nbformat": 4,
 "nbformat_minor": 1
}
